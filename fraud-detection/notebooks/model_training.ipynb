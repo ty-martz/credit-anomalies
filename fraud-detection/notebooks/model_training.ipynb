{
 "cells": [
  {
   "cell_type": "code",
   "execution_count": 1,
   "metadata": {},
   "outputs": [],
   "source": [
    "import pandas as pd\n",
    "from sklearn.metrics import precision_score, accuracy_score, roc_auc_score, roc_curve, plot_confusion_matrix, plot_precision_recall_curve\n",
    "from sklearn.model_selection import GridSearchCV, cross_val_score\n",
    "from sklearn.ensemble import RandomForestClassifier\n",
    "from sklearn.neighbors import KNeighborsClassifier\n",
    "from sklearn.svm import SVC\n",
    "from sklearn.naive_bayes import GaussianNB\n",
    "from sklearn.linear_model import LogisticRegression\n",
    "# TODO: import xgboost as xgb\n",
    "# TODO: import torch\n",
    "\n",
    "import sys\n",
    "sys.path.append('../src')\n",
    "#from model import \n",
    "from preprocessing import split_data"
   ]
  },
  {
   "cell_type": "code",
   "execution_count": 2,
   "metadata": {},
   "outputs": [],
   "source": [
    "# Load Data\n",
    "#df = pd.read_pickle('../data/clean-fraud.pkl') # simple cleaned\n",
    "df = pd.read_pickle('../data/scaled-fraud.pkl') # simple scaled\n",
    "#df = pd.read_pickle('../data/pca-fraud.pkl') # PCA\n",
    "\n",
    "# Split Data\n",
    "xt, xtest, yt, ytest = split_data(df)"
   ]
  },
  {
   "cell_type": "code",
   "execution_count": 3,
   "metadata": {},
   "outputs": [
    {
     "name": "stdout",
     "output_type": "stream",
     "text": [
      "(226385, 30)\n",
      "(226385,)\n",
      "(56597, 30)\n",
      "(56597,)\n"
     ]
    }
   ],
   "source": [
    "for i in [xt, yt, xtest, ytest]:\n",
    "    print(i.shape)"
   ]
  },
  {
   "cell_type": "code",
   "execution_count": 7,
   "metadata": {},
   "outputs": [
    {
     "name": "stdout",
     "output_type": "stream",
     "text": [
      "KNN\n"
     ]
    },
    {
     "name": "stderr",
     "output_type": "stream",
     "text": [
      "[Parallel(n_jobs=-1)]: Using backend LokyBackend with 4 concurrent workers.\n",
      "[Parallel(n_jobs=-1)]: Done   2 out of   4 | elapsed: 39.1min remaining: 39.1min\n",
      "[Parallel(n_jobs=-1)]: Done   4 out of   4 | elapsed: 39.2min finished\n"
     ]
    },
    {
     "name": "stdout",
     "output_type": "stream",
     "text": [
      "[0.99844515 0.99835677 0.99844512 0.99840978]\n",
      "Average Score = 0.9984142057515228\n",
      "\n",
      "SVC\n"
     ]
    },
    {
     "name": "stderr",
     "output_type": "stream",
     "text": [
      "[Parallel(n_jobs=-1)]: Using backend LokyBackend with 4 concurrent workers.\n",
      "[Parallel(n_jobs=-1)]: Done   2 out of   4 | elapsed:   43.4s remaining:   43.4s\n",
      "[Parallel(n_jobs=-1)]: Done   4 out of   4 | elapsed:   45.9s finished\n",
      "[Parallel(n_jobs=-1)]: Using backend LokyBackend with 4 concurrent workers.\n"
     ]
    },
    {
     "name": "stdout",
     "output_type": "stream",
     "text": [
      "[0.99837447 0.99837444 0.99837444 0.99837444]\n",
      "Average Score = 0.9983744506039645\n",
      "\n",
      "LogReg\n"
     ]
    },
    {
     "name": "stderr",
     "output_type": "stream",
     "text": [
      "/Users/Ty/Code/credit-anomalies/env/lib/python3.7/site-packages/sklearn/linear_model/_logistic.py:818: ConvergenceWarning: lbfgs failed to converge (status=1):\n",
      "STOP: TOTAL NO. of ITERATIONS REACHED LIMIT.\n",
      "\n",
      "Increase the number of iterations (max_iter) or scale the data as shown in:\n",
      "    https://scikit-learn.org/stable/modules/preprocessing.html\n",
      "Please also refer to the documentation for alternative solver options:\n",
      "    https://scikit-learn.org/stable/modules/linear_model.html#logistic-regression\n",
      "  extra_warning_msg=_LOGISTIC_SOLVER_CONVERGENCE_MSG,\n",
      "[Parallel(n_jobs=-1)]: Done   2 out of   4 | elapsed:    7.7s remaining:    7.7s\n",
      "/Users/Ty/Code/credit-anomalies/env/lib/python3.7/site-packages/sklearn/linear_model/_logistic.py:818: ConvergenceWarning: lbfgs failed to converge (status=1):\n",
      "STOP: TOTAL NO. of ITERATIONS REACHED LIMIT.\n",
      "\n",
      "Increase the number of iterations (max_iter) or scale the data as shown in:\n",
      "    https://scikit-learn.org/stable/modules/preprocessing.html\n",
      "Please also refer to the documentation for alternative solver options:\n",
      "    https://scikit-learn.org/stable/modules/linear_model.html#logistic-regression\n",
      "  extra_warning_msg=_LOGISTIC_SOLVER_CONVERGENCE_MSG,\n",
      "/Users/Ty/Code/credit-anomalies/env/lib/python3.7/site-packages/sklearn/linear_model/_logistic.py:818: ConvergenceWarning: lbfgs failed to converge (status=1):\n",
      "STOP: TOTAL NO. of ITERATIONS REACHED LIMIT.\n",
      "\n",
      "Increase the number of iterations (max_iter) or scale the data as shown in:\n",
      "    https://scikit-learn.org/stable/modules/preprocessing.html\n",
      "Please also refer to the documentation for alternative solver options:\n",
      "    https://scikit-learn.org/stable/modules/linear_model.html#logistic-regression\n",
      "  extra_warning_msg=_LOGISTIC_SOLVER_CONVERGENCE_MSG,\n",
      "[Parallel(n_jobs=-1)]: Done   4 out of   4 | elapsed:    7.8s finished\n"
     ]
    },
    {
     "name": "stdout",
     "output_type": "stream",
     "text": [
      "[0.99897521 0.99890452 0.99915188 0.99886918]\n",
      "Average Score = 0.9989751971198906\n",
      "\n",
      "NB\n"
     ]
    },
    {
     "name": "stderr",
     "output_type": "stream",
     "text": [
      "[Parallel(n_jobs=-1)]: Using backend LokyBackend with 4 concurrent workers.\n"
     ]
    },
    {
     "name": "stdout",
     "output_type": "stream",
     "text": [
      "[0.99316218 0.99298537 0.99325041 0.99362146]\n",
      "Average Score = 0.9932548538669618\n",
      "\n"
     ]
    },
    {
     "name": "stderr",
     "output_type": "stream",
     "text": [
      "[Parallel(n_jobs=-1)]: Done   2 out of   4 | elapsed:    1.1s remaining:    1.1s\n",
      "[Parallel(n_jobs=-1)]: Done   4 out of   4 | elapsed:    1.1s finished\n"
     ]
    }
   ],
   "source": [
    "# Simple CV Testing\n",
    "\n",
    "names = [#'RF', \n",
    "    'KNN', 'SVC', 'LogReg', 'NB']\n",
    "models = [\n",
    "    #RandomForestClassifier(),\n",
    "    KNeighborsClassifier(),\n",
    "    SVC(),\n",
    "    LogisticRegression(),\n",
    "    GaussianNB()\n",
    "]\n",
    "for clf, n in zip(models, names):\n",
    "    print(f\"{n}\")\n",
    "    scores = cross_val_score(clf, xt, yt, cv=4, scoring='accuracy', verbose=1, n_jobs=-1)\n",
    "    print(scores)\n",
    "    print(f\"Average Score = {scores.mean()}\")\n",
    "    print('')"
   ]
  },
  {
   "cell_type": "code",
   "execution_count": null,
   "metadata": {},
   "outputs": [],
   "source": []
  }
 ],
 "metadata": {
  "kernelspec": {
   "display_name": "env",
   "language": "python",
   "name": "python3"
  },
  "language_info": {
   "codemirror_mode": {
    "name": "ipython",
    "version": 3
   },
   "file_extension": ".py",
   "mimetype": "text/x-python",
   "name": "python",
   "nbconvert_exporter": "python",
   "pygments_lexer": "ipython3",
   "version": "3.7.6"
  },
  "orig_nbformat": 4,
  "vscode": {
   "interpreter": {
    "hash": "7ca6f26e28ab72902855a3a5960b7c79448a7fd802db4ac52940332dca2b9cfa"
   }
  }
 },
 "nbformat": 4,
 "nbformat_minor": 2
}
